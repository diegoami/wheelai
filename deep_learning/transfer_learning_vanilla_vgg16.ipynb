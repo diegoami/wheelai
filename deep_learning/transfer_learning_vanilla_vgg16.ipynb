{
 "cells": [
  {
   "cell_type": "code",
   "execution_count": 1,
   "metadata": {
    "collapsed": true
   },
   "outputs": [],
   "source": [
    "train_data = \"/media/shreyas/DATA/ML_DATA/traffic_signs/train.p\"\n",
    "valid_data = \"/media/shreyas/DATA/ML_DATA/traffic_signs/valid.p\"\n",
    "test_data = \"/media/shreyas/DATA/ML_DATA/traffic_signs/test.p\"\n",
    "results = \"/media/shreyas/DATA/ML_DATA/traffic_signs/results/\""
   ]
  },
  {
   "cell_type": "code",
   "execution_count": 25,
   "metadata": {},
   "outputs": [],
   "source": [
    "from __future__ import division, print_function\n",
    "\n",
    "import os, json\n",
    "from glob import glob\n",
    "import numpy as np\n",
    "from scipy import misc, ndimage\n",
    "from scipy.ndimage.interpolation import zoom\n",
    "\n",
    "import keras\n",
    "from keras.callbacks import ModelCheckpoint\n",
    "from keras import backend as K\n",
    "from keras.layers.normalization import BatchNormalization\n",
    "from keras.models import Sequential\n",
    "from keras.layers.core import Flatten, Dense, Dropout, Lambda\n",
    "from keras.layers.convolutional import Conv2D, MaxPooling2D, ZeroPadding2D\n",
    "from keras.layers.pooling import GlobalAveragePooling2D\n",
    "from keras.optimizers import Adam\n",
    "from keras.preprocessing import image\n",
    "from keras.applications.xception import Xception\n",
    "from keras.applications.vgg16 import VGG16\n",
    "from keras.applications.vgg19 import VGG19\n",
    "from keras.applications.resnet50 import ResNet50\n",
    "#from keras.applications.inception_resnet_v2 import InceptionResNetV2\n",
    "\n",
    "from keras.backend import tf as k\n",
    "\n",
    "import matplotlib.pyplot as plt\n",
    "import seaborn as sns\n",
    "%matplotlib inline\n",
    "from utils import *\n",
    "from vgg16 import Vgg16"
   ]
  },
  {
   "cell_type": "code",
   "execution_count": 3,
   "metadata": {
    "collapsed": true
   },
   "outputs": [],
   "source": [
    "# Load pickled data\n",
    "import pickle\n",
    "\n",
    "with open(train_data, mode='rb') as f:\n",
    "    train = pickle.load(f)\n",
    "with open(test_data, mode='rb') as f:\n",
    "    test = pickle.load(f)\n",
    "with open(valid_data, mode='rb') as f:\n",
    "    valid = pickle.load(f)\n",
    "    \n",
    "X_train, y_train = train['features'], train['labels']\n",
    "X_valid, y_valid = valid['features'], valid['labels']\n",
    "X_test, y_test = test['features'], test['labels']"
   ]
  },
  {
   "cell_type": "code",
   "execution_count": 31,
   "metadata": {},
   "outputs": [
    {
     "data": {
      "image/png": "[encoded data removed]",
      "text/plain": [
       "<matplotlib.figure.Figure at 0x7f5022f60828>"
      ]
     },
     "metadata": {},
     "output_type": "display_data"
    }
   ],
   "source": [
    "from collections import Counter\n",
    "train_label_counter = Counter(y_train)\n",
    "\n",
    "train_counter = Counter(y_train)\n",
    "order = list(zip(*train_counter.most_common()))[0]\n",
    "\n",
    "f, ax = plt.subplots(figsize=(12, 4))\n",
    "ax = sns.countplot(x=y_train, order=order, color='lightblue', ax=ax, label=\"train\")\n",
    "\n",
    "_ = ax.set_title('Class distribution')\n",
    "_ = ax.legend(ncol=2, loc=\"upper right\", frameon=True)"
   ]
  },
  {
   "cell_type": "code",
   "execution_count": 4,
   "metadata": {},
   "outputs": [
    {
     "name": "stdout",
     "output_type": "stream",
     "text": [
      "X_train shape: (34799, 32, 32, 3)\n",
      "34799 train samples\n",
      "4410 valid samples\n",
      "12630 test samples\n"
     ]
    }
   ],
   "source": [
    "X_train = X_train.astype('float32')\n",
    "X_valid = X_valid.astype('float32')\n",
    "X_test = X_test.astype('float32')\n",
    "X_train /= 255\n",
    "X_valid /= 255\n",
    "X_test /= 255\n",
    "print('X_train shape:', X_train.shape)\n",
    "print(X_train.shape[0], 'train samples')\n",
    "print(X_valid.shape[0], 'valid samples')\n",
    "print(X_test.shape[0], 'test samples')"
   ]
  },
  {
   "cell_type": "code",
   "execution_count": 5,
   "metadata": {
    "collapsed": true
   },
   "outputs": [],
   "source": [
    "nb_train_samples = X_train.shape[0]\n",
    "nb_valid_samples = X_valid.shape[0]\n",
    "batch_size = 32\n",
    "steps_per_epoch = nb_train_samples // batch_size\n",
    "valid_steps = nb_valid_samples // batch_size"
   ]
  },
  {
   "cell_type": "code",
   "execution_count": 6,
   "metadata": {},
   "outputs": [
    {
     "name": "stdout",
     "output_type": "stream",
     "text": [
      "(34799, 43)\n"
     ]
    }
   ],
   "source": [
    "Y_train = np_utils.to_categorical(y_train, 43)\n",
    "Y_valid = np_utils.to_categorical(y_valid, 43)\n",
    "Y_test = np_utils.to_categorical(y_test, 43)\n",
    "\n",
    "print (Y_train.shape)"
   ]
  },
  {
   "cell_type": "markdown",
   "metadata": {},
   "source": [
    "## Image resizing"
   ]
  },
  {
   "cell_type": "code",
   "execution_count": 6,
   "metadata": {
    "collapsed": true
   },
   "outputs": [],
   "source": [
    "def image_resize(X, h, w):\n",
    "    inp = Input(shape=(None, None, 3))\n",
    "    out = Lambda(lambda image: k.image.resize_images(image, (h, w)))(inp)\n",
    "\n",
    "    model = Model(input=inp, output=out)\n",
    "    return model.predict(X)"
   ]
  },
  {
   "cell_type": "code",
   "execution_count": 7,
   "metadata": {},
   "outputs": [
    {
     "name": "stderr",
     "output_type": "stream",
     "text": [
      "/home/shreyas/anaconda3/envs/wheelai/lib/python3.5/site-packages/ipykernel/__main__.py:5: UserWarning: Update your `Model` call to the Keras 2 API: `Model(outputs=Tensor(\"la..., inputs=Tensor(\"in...)`\n"
     ]
    }
   ],
   "source": [
    "X_trn299 = image_resize(X_train, 299, 299)\n",
    "X_vld299 = image_resize(X_valid, 299, 299)"
   ]
  },
  {
   "cell_type": "code",
   "execution_count": 8,
   "metadata": {},
   "outputs": [],
   "source": [
    "save_array(results + 'X_trn299.dat', X_trn299)\n",
    "save_array(results + 'X_vld299.dat', X_vld299)"
   ]
  },
  {
   "cell_type": "code",
   "execution_count": null,
   "metadata": {},
   "outputs": [],
   "source": [
    "X_trn299 = load_array(results + 'X_trn299.dat')\n",
    "X_vld299 = load_array(results + 'X_vld299.dat')"
   ]
  },
  {
   "cell_type": "code",
   "execution_count": 8,
   "metadata": {},
   "outputs": [
    {
     "name": "stdout",
     "output_type": "stream",
     "text": [
      "(34799, 299, 299, 3) (4410, 299, 299, 3)\n"
     ]
    }
   ],
   "source": [
    "print (X_trn299.shape, X_vld299.shape)"
   ]
  },
  {
   "cell_type": "markdown",
   "metadata": {},
   "source": [
    "## Feature Extraction"
   ]
  },
  {
   "cell_type": "markdown",
   "metadata": {},
   "source": [
    "### VGG16"
   ]
  },
  {
   "cell_type": "code",
   "execution_count": null,
   "metadata": {},
   "outputs": [],
   "source": [
    "vgg = VGG16(include_top=False, weights='imagenet', input_shape=(224,224,3))"
   ]
  },
  {
   "cell_type": "code",
   "execution_count": null,
   "metadata": {},
   "outputs": [],
   "source": [
    "vgg.compile(loss='categorical_crossentropy', optimizer='adam', metrics=['accuracy'])"
   ]
  },
  {
   "cell_type": "code",
   "execution_count": null,
   "metadata": {},
   "outputs": [],
   "source": [
    "trn_ft = vgg.predict(X_trn224)\n",
    "vld_ft = vgg.predict(X_vld224)"
   ]
  },
  {
   "cell_type": "code",
   "execution_count": null,
   "metadata": {},
   "outputs": [],
   "source": [
    "print(trn_ft.shape, vld_ft.shape)"
   ]
  },
  {
   "cell_type": "code",
   "execution_count": null,
   "metadata": {
    "collapsed": true
   },
   "outputs": [],
   "source": [
    "save_array(results + 'trn_vgg.dat', trn_ft)\n",
    "save_array(results + 'val_vgg.dat', vld_ft)"
   ]
  },
  {
   "cell_type": "markdown",
   "metadata": {},
   "source": [
    "### ResNet50"
   ]
  },
  {
   "cell_type": "code",
   "execution_count": 57,
   "metadata": {},
   "outputs": [
    {
     "name": "stdout",
     "output_type": "stream",
     "text": [
      "Downloading data from https://github.com/fchollet/deep-learning-models/releases/download/v0.2/resnet50_weights_tf_dim_ordering_tf_kernels_notop.h5\n"
     ]
    }
   ],
   "source": [
    "res50 = ResNet50(include_top=False, weights='imagenet', input_shape=(224,224,3))"
   ]
  },
  {
   "cell_type": "code",
   "execution_count": 58,
   "metadata": {
    "collapsed": true
   },
   "outputs": [],
   "source": [
    "res50.compile(loss='categorical_crossentropy', optimizer='adam', metrics=['accuracy'])"
   ]
  },
  {
   "cell_type": "code",
   "execution_count": 61,
   "metadata": {
    "collapsed": true
   },
   "outputs": [],
   "source": [
    "trn_ft = res50.predict(X_trn224)\n",
    "vld_ft = res50.predict(X_vld224)"
   ]
  },
  {
   "cell_type": "code",
   "execution_count": 62,
   "metadata": {
    "collapsed": true
   },
   "outputs": [],
   "source": [
    "save_array(results + 'trn_res.dat', trn_ft)\n",
    "save_array(results + 'val_res.dat', vld_ft)"
   ]
  },
  {
   "cell_type": "code",
   "execution_count": null,
   "metadata": {
    "collapsed": true
   },
   "outputs": [],
   "source": []
  },
  {
   "cell_type": "code",
   "execution_count": 63,
   "metadata": {},
   "outputs": [
    {
     "name": "stdout",
     "output_type": "stream",
     "text": [
      "(34799, 1, 1, 2048) (4410, 1, 1, 2048)\n"
     ]
    }
   ],
   "source": [
    "print(trn_ft.shape, vld_ft.shape)"
   ]
  },
  {
   "cell_type": "markdown",
   "metadata": {},
   "source": [
    "### Xception"
   ]
  },
  {
   "cell_type": "code",
   "execution_count": 11,
   "metadata": {},
   "outputs": [
    {
     "name": "stdout",
     "output_type": "stream",
     "text": [
      "Downloading data from https://github.com/fchollet/deep-learning-models/releases/download/v0.4/xception_weights_tf_dim_ordering_tf_kernels_notop.h5\n"
     ]
    }
   ],
   "source": [
    "xception = Xception(include_top=False, weights='imagenet', input_shape=(299,299,3))\n",
    "xception.compile(loss='categorical_crossentropy', optimizer='adam', metrics=['accuracy'])"
   ]
  },
  {
   "cell_type": "code",
   "execution_count": null,
   "metadata": {},
   "outputs": [],
   "source": [
    "trn_ft = xception.predict(X_trn299)\n",
    "vld_ft = xception.predict(X_vld299)"
   ]
  },
  {
   "cell_type": "code",
   "execution_count": null,
   "metadata": {
    "collapsed": true
   },
   "outputs": [],
   "source": [
    "save_array(results + 'trn_xception.dat', trn_ft)\n",
    "save_array(results + 'val_xception.dat', vld_ft)"
   ]
  },
  {
   "cell_type": "code",
   "execution_count": null,
   "metadata": {
    "collapsed": true
   },
   "outputs": [],
   "source": [
    "print(trn_ft.shape, vld_ft.shape)"
   ]
  },
  {
   "cell_type": "markdown",
   "metadata": {},
   "source": [
    "## Vanila VGG"
   ]
  },
  {
   "cell_type": "code",
   "execution_count": 8,
   "metadata": {
    "collapsed": true
   },
   "outputs": [],
   "source": [
    "X_trn = load_array(results + 'trn_vgg.dat')\n",
    "X_vld = load_array(results + 'val_vgg.dat')"
   ]
  },
  {
   "cell_type": "code",
   "execution_count": 9,
   "metadata": {},
   "outputs": [
    {
     "name": "stdout",
     "output_type": "stream",
     "text": [
      "(34799, 7, 7, 512) (4410, 7, 7, 512)\n"
     ]
    }
   ],
   "source": [
    "print(X_trn.shape, X_vld.shape)"
   ]
  },
  {
   "cell_type": "code",
   "execution_count": 11,
   "metadata": {},
   "outputs": [],
   "source": [
    "inp = Input(shape=(X_trn.shape[1:]))\n",
    "x = Flatten()(inp)\n",
    "x = BatchNormalization()(x)\n",
    "x = Dropout(0.5)(x)\n",
    "ouput_layer = Dense(43, activation='softmax')(x)\n",
    "model = Model(inputs=inp, outputs=ouput_layer)"
   ]
  },
  {
   "cell_type": "code",
   "execution_count": 12,
   "metadata": {},
   "outputs": [
    {
     "name": "stdout",
     "output_type": "stream",
     "text": [
      "Train on 34799 samples, validate on 4410 samples\n",
      "Epoch 1/3\n",
      "34799/34799 [==============================] - 6s - loss: 0.8421 - acc: 0.7719 - val_loss: 1.3683 - val_acc: 0.6435\n",
      "Epoch 2/3\n",
      "34799/34799 [==============================] - 4s - loss: 0.3034 - acc: 0.9071 - val_loss: 1.7592 - val_acc: 0.6274\n",
      "Epoch 3/3\n",
      "34799/34799 [==============================] - 4s - loss: 0.2472 - acc: 0.9237 - val_loss: 1.6421 - val_acc: 0.6755\n"
     ]
    },
    {
     "data": {
      "text/plain": [
       "<keras.callbacks.History at 0x7f51812fcf60>"
      ]
     },
     "execution_count": 12,
     "metadata": {},
     "output_type": "execute_result"
    }
   ],
   "source": [
    "model.compile(loss='categorical_crossentropy', optimizer='adam', metrics=['accuracy'])\n",
    "model.fit(x=X_trn, y=Y_train, batch_size=128, epochs=3, verbose=1, validation_data=(X_vld, Y_valid))"
   ]
  },
  {
   "cell_type": "code",
   "execution_count": 13,
   "metadata": {},
   "outputs": [
    {
     "name": "stdout",
     "output_type": "stream",
     "text": [
      "Train on 34799 samples, validate on 4410 samples\n",
      "Epoch 1/5\n",
      "34799/34799 [==============================] - 4s - loss: 0.2065 - acc: 0.9349 - val_loss: 1.8986 - val_acc: 0.6857\n",
      "Epoch 2/5\n",
      "34799/34799 [==============================] - 4s - loss: 0.1886 - acc: 0.9430 - val_loss: 1.7470 - val_acc: 0.6902\n",
      "Epoch 3/5\n",
      "34799/34799 [==============================] - 4s - loss: 0.1755 - acc: 0.9458 - val_loss: 1.7338 - val_acc: 0.7136\n",
      "Epoch 4/5\n",
      "34799/34799 [==============================] - 4s - loss: 0.1719 - acc: 0.9493 - val_loss: 1.9411 - val_acc: 0.6880\n",
      "Epoch 5/5\n",
      "34799/34799 [==============================] - 4s - loss: 0.1540 - acc: 0.9532 - val_loss: 2.1819 - val_acc: 0.6902\n"
     ]
    },
    {
     "data": {
      "text/plain": [
       "<keras.callbacks.History at 0x7f5181d7b470>"
      ]
     },
     "execution_count": 13,
     "metadata": {},
     "output_type": "execute_result"
    }
   ],
   "source": [
    "model.optimizer.lr = 1e-5\n",
    "model.fit(x=X_trn, y=Y_train, batch_size=128, epochs=5, verbose=1, validation_data=(X_vld, Y_valid))"
   ]
  },
  {
   "cell_type": "code",
   "execution_count": 14,
   "metadata": {},
   "outputs": [
    {
     "name": "stdout",
     "output_type": "stream",
     "text": [
      "Train on 34799 samples, validate on 4410 samples\n",
      "Epoch 1/5\n",
      "34799/34799 [==============================] - 4s - loss: 0.1564 - acc: 0.9532 - val_loss: 1.8765 - val_acc: 0.7270\n",
      "Epoch 2/5\n",
      "34799/34799 [==============================] - 4s - loss: 0.1453 - acc: 0.9566 - val_loss: 2.0802 - val_acc: 0.7136\n",
      "Epoch 3/5\n",
      "34799/34799 [==============================] - 4s - loss: 0.1334 - acc: 0.9599 - val_loss: 2.3624 - val_acc: 0.6961\n",
      "Epoch 4/5\n",
      "34799/34799 [==============================] - 4s - loss: 0.1469 - acc: 0.9595 - val_loss: 2.4665 - val_acc: 0.7116\n",
      "Epoch 5/5\n",
      "34799/34799 [==============================] - 4s - loss: 0.1375 - acc: 0.9602 - val_loss: 2.2115 - val_acc: 0.7172\n"
     ]
    },
    {
     "data": {
      "text/plain": [
       "<keras.callbacks.History at 0x7f5181d2ea90>"
      ]
     },
     "execution_count": 14,
     "metadata": {},
     "output_type": "execute_result"
    }
   ],
   "source": [
    "model.optimizer.lr = 1e-3\n",
    "model.fit(x=X_trn, y=Y_train, batch_size=128, epochs=5, verbose=1, validation_data=(X_vld, Y_valid))"
   ]
  },
  {
   "cell_type": "code",
   "execution_count": 15,
   "metadata": {},
   "outputs": [
    {
     "name": "stdout",
     "output_type": "stream",
     "text": [
      "Train on 34799 samples, validate on 4410 samples\n",
      "Epoch 1/5\n",
      "34799/34799 [==============================] - 4s - loss: 0.1369 - acc: 0.9610 - val_loss: 2.4147 - val_acc: 0.7120\n",
      "Epoch 2/5\n",
      "34799/34799 [==============================] - 4s - loss: 0.1309 - acc: 0.9619 - val_loss: 2.2834 - val_acc: 0.7193\n",
      "Epoch 3/5\n",
      "34799/34799 [==============================] - 4s - loss: 0.1222 - acc: 0.9659 - val_loss: 2.5302 - val_acc: 0.7197\n",
      "Epoch 4/5\n",
      "34799/34799 [==============================] - 4s - loss: 0.1192 - acc: 0.9656 - val_loss: 2.3415 - val_acc: 0.7181\n",
      "Epoch 5/5\n",
      "34799/34799 [==============================] - 4s - loss: 0.1206 - acc: 0.9664 - val_loss: 2.3875 - val_acc: 0.7299\n"
     ]
    },
    {
     "data": {
      "text/plain": [
       "<keras.callbacks.History at 0x7f5181d7b320>"
      ]
     },
     "execution_count": 15,
     "metadata": {},
     "output_type": "execute_result"
    }
   ],
   "source": [
    "model.optimizer.lr = 1e-5\n",
    "model.fit(x=X_trn, y=Y_train, batch_size=128, epochs=5, verbose=1, validation_data=(X_vld, Y_valid))"
   ]
  },
  {
   "cell_type": "code",
   "execution_count": 16,
   "metadata": {},
   "outputs": [
    {
     "name": "stdout",
     "output_type": "stream",
     "text": [
      "Train on 34799 samples, validate on 4410 samples\n",
      "Epoch 1/5\n",
      "34799/34799 [==============================] - 4s - loss: 0.1158 - acc: 0.9663 - val_loss: 2.5337 - val_acc: 0.7029\n",
      "Epoch 2/5\n",
      "34799/34799 [==============================] - 4s - loss: 0.1161 - acc: 0.9681 - val_loss: 2.5439 - val_acc: 0.7181\n",
      "Epoch 3/5\n",
      "34799/34799 [==============================] - 4s - loss: 0.1126 - acc: 0.9686 - val_loss: 2.5697 - val_acc: 0.7154\n",
      "Epoch 4/5\n",
      "34799/34799 [==============================] - 4s - loss: 0.1214 - acc: 0.9681 - val_loss: 2.7023 - val_acc: 0.7213\n",
      "Epoch 5/5\n",
      "34799/34799 [==============================] - 4s - loss: 0.1034 - acc: 0.9706 - val_loss: 2.6350 - val_acc: 0.7193\n"
     ]
    },
    {
     "data": {
      "text/plain": [
       "<keras.callbacks.History at 0x7f518127ed68>"
      ]
     },
     "execution_count": 16,
     "metadata": {},
     "output_type": "execute_result"
    }
   ],
   "source": [
    "model.optimizer.lr = 1e-3\n",
    "model.fit(x=X_trn, y=Y_train, batch_size=128, epochs=5, verbose=1, validation_data=(X_vld, Y_valid))"
   ]
  },
  {
   "cell_type": "code",
   "execution_count": 17,
   "metadata": {},
   "outputs": [],
   "source": [
    "inp = Input(shape=(X_trn.shape[1:]))\n",
    "x = Flatten()(inp)\n",
    "x = BatchNormalization()(x)\n",
    "x = Dropout(0.3)(x)\n",
    "x = Dense(256, activation='elu', kernel_regularizer=regularizers.l2(0.01))(x)\n",
    "x = BatchNormalization()(x)\n",
    "x = Dropout(0.5)(x)\n",
    "x = Dense(256, activation='elu', kernel_regularizer=regularizers.l2(0.01))(x)\n",
    "x = BatchNormalization()(x)\n",
    "x = Dropout(0.8)(x)\n",
    "ouput_layer = Dense(43, activation='softmax')(x)\n",
    "model = Model(inputs=inp, outputs=ouput_layer)"
   ]
  },
  {
   "cell_type": "code",
   "execution_count": 18,
   "metadata": {},
   "outputs": [
    {
     "name": "stdout",
     "output_type": "stream",
     "text": [
      "Train on 34799 samples, validate on 4410 samples\n",
      "Epoch 1/3\n",
      "34799/34799 [==============================] - 5s - loss: 7.0149 - acc: 0.3919 - val_loss: 4.7352 - val_acc: 0.4882\n",
      "Epoch 2/3\n",
      "34799/34799 [==============================] - 5s - loss: 3.7009 - acc: 0.6104 - val_loss: 3.3275 - val_acc: 0.6304\n",
      "Epoch 3/3\n",
      "34799/34799 [==============================] - 5s - loss: 3.0076 - acc: 0.6649 - val_loss: 2.8912 - val_acc: 0.6732\n"
     ]
    },
    {
     "data": {
      "text/plain": [
       "<keras.callbacks.History at 0x7f50601c6908>"
      ]
     },
     "execution_count": 18,
     "metadata": {},
     "output_type": "execute_result"
    }
   ],
   "source": [
    "model.compile(loss='categorical_crossentropy', optimizer='adam', metrics=['accuracy'])\n",
    "model.fit(x=X_trn, y=Y_train, batch_size=128, epochs=3, verbose=1, validation_data=(X_vld, Y_valid))"
   ]
  },
  {
   "cell_type": "code",
   "execution_count": 19,
   "metadata": {},
   "outputs": [
    {
     "name": "stdout",
     "output_type": "stream",
     "text": [
      "Train on 34799 samples, validate on 4410 samples\n",
      "Epoch 1/5\n",
      "34799/34799 [==============================] - 5s - loss: 2.7675 - acc: 0.6842 - val_loss: 2.8245 - val_acc: 0.6594\n",
      "Epoch 2/5\n",
      "34799/34799 [==============================] - 5s - loss: 2.6732 - acc: 0.6934 - val_loss: 2.7684 - val_acc: 0.6730\n",
      "Epoch 3/5\n",
      "34799/34799 [==============================] - 5s - loss: 2.6245 - acc: 0.7026 - val_loss: 2.7480 - val_acc: 0.6512\n",
      "Epoch 4/5\n",
      "34799/34799 [==============================] - 5s - loss: 2.5896 - acc: 0.7113 - val_loss: 2.7650 - val_acc: 0.6744\n",
      "Epoch 5/5\n",
      "34799/34799 [==============================] - 5s - loss: 2.5403 - acc: 0.7208 - val_loss: 2.6649 - val_acc: 0.6626\n"
     ]
    },
    {
     "data": {
      "text/plain": [
       "<keras.callbacks.History at 0x7f51812a20f0>"
      ]
     },
     "execution_count": 19,
     "metadata": {},
     "output_type": "execute_result"
    }
   ],
   "source": [
    "model.optimizer.lr = 1e-5\n",
    "model.fit(x=X_trn, y=Y_train, batch_size=128, epochs=5, verbose=1, validation_data=(X_vld, Y_valid))"
   ]
  },
  {
   "cell_type": "code",
   "execution_count": 20,
   "metadata": {},
   "outputs": [
    {
     "name": "stdout",
     "output_type": "stream",
     "text": [
      "Train on 34799 samples, validate on 4410 samples\n",
      "Epoch 1/5\n",
      "34799/34799 [==============================] - 5s - loss: 2.5199 - acc: 0.7257 - val_loss: 2.6433 - val_acc: 0.6828\n",
      "Epoch 2/5\n",
      "34799/34799 [==============================] - 5s - loss: 2.4718 - acc: 0.7364 - val_loss: 2.6386 - val_acc: 0.6868\n",
      "Epoch 3/5\n",
      "34799/34799 [==============================] - 5s - loss: 2.4640 - acc: 0.7407 - val_loss: 2.5006 - val_acc: 0.7043\n",
      "Epoch 4/5\n",
      "34799/34799 [==============================] - 5s - loss: 2.4625 - acc: 0.7413 - val_loss: 2.6867 - val_acc: 0.6884\n",
      "Epoch 5/5\n",
      "34799/34799 [==============================] - 5s - loss: 2.4257 - acc: 0.7534 - val_loss: 2.6195 - val_acc: 0.7143\n"
     ]
    },
    {
     "data": {
      "text/plain": [
       "<keras.callbacks.History at 0x7f5060097dd8>"
      ]
     },
     "execution_count": 20,
     "metadata": {},
     "output_type": "execute_result"
    }
   ],
   "source": [
    "model.optimizer.lr = 1e-3\n",
    "model.fit(x=X_trn, y=Y_train, batch_size=128, epochs=5, verbose=1, validation_data=(X_vld, Y_valid))"
   ]
  },
  {
   "cell_type": "code",
   "execution_count": 21,
   "metadata": {},
   "outputs": [
    {
     "name": "stdout",
     "output_type": "stream",
     "text": [
      "Train on 34799 samples, validate on 4410 samples\n",
      "Epoch 1/5\n",
      "34799/34799 [==============================] - 5s - loss: 2.4099 - acc: 0.7590 - val_loss: 2.6108 - val_acc: 0.6950\n",
      "Epoch 2/5\n",
      "34799/34799 [==============================] - 5s - loss: 2.3469 - acc: 0.7673 - val_loss: 2.6158 - val_acc: 0.7048\n",
      "Epoch 3/5\n",
      "34799/34799 [==============================] - 5s - loss: 2.3802 - acc: 0.7667 - val_loss: 2.4896 - val_acc: 0.7200\n",
      "Epoch 4/5\n",
      "34799/34799 [==============================] - 5s - loss: 2.3390 - acc: 0.7714 - val_loss: 2.4851 - val_acc: 0.7234\n",
      "Epoch 5/5\n",
      "34799/34799 [==============================] - 5s - loss: 2.3320 - acc: 0.7742 - val_loss: 2.4670 - val_acc: 0.7261\n"
     ]
    },
    {
     "data": {
      "text/plain": [
       "<keras.callbacks.History at 0x7f517fb938d0>"
      ]
     },
     "execution_count": 21,
     "metadata": {},
     "output_type": "execute_result"
    }
   ],
   "source": [
    "model.optimizer.lr = 1e-5\n",
    "model.fit(x=X_trn, y=Y_train, batch_size=128, epochs=5, verbose=1, validation_data=(X_vld, Y_valid))"
   ]
  },
  {
   "cell_type": "code",
   "execution_count": 22,
   "metadata": {},
   "outputs": [
    {
     "name": "stdout",
     "output_type": "stream",
     "text": [
      "Train on 34799 samples, validate on 4410 samples\n",
      "Epoch 1/5\n",
      "34799/34799 [==============================] - 5s - loss: 2.2901 - acc: 0.7808 - val_loss: 2.4400 - val_acc: 0.7163\n",
      "Epoch 2/5\n",
      "34799/34799 [==============================] - 5s - loss: 2.2807 - acc: 0.7802 - val_loss: 2.3538 - val_acc: 0.7329\n",
      "Epoch 3/5\n",
      "34799/34799 [==============================] - 5s - loss: 2.2128 - acc: 0.7833 - val_loss: 2.3306 - val_acc: 0.7134\n",
      "Epoch 4/5\n",
      "34799/34799 [==============================] - 5s - loss: 2.2413 - acc: 0.7848 - val_loss: 2.4555 - val_acc: 0.7261\n",
      "Epoch 5/5\n",
      "34799/34799 [==============================] - 5s - loss: 2.1991 - acc: 0.7901 - val_loss: 2.2570 - val_acc: 0.7678\n"
     ]
    },
    {
     "data": {
      "text/plain": [
       "<keras.callbacks.History at 0x7f50600a5160>"
      ]
     },
     "execution_count": 22,
     "metadata": {},
     "output_type": "execute_result"
    }
   ],
   "source": [
    "model.optimizer.lr = 1e-3\n",
    "model.fit(x=X_trn, y=Y_train, batch_size=128, epochs=5, verbose=1, validation_data=(X_vld, Y_valid))"
   ]
  },
  {
   "cell_type": "code",
   "execution_count": 32,
   "metadata": {},
   "outputs": [
    {
     "name": "stdout",
     "output_type": "stream",
     "text": [
      "_________________________________________________________________\n",
      "Layer (type)                 Output Shape              Param #   \n",
      "=================================================================\n",
      "input_4 (InputLayer)         (None, 224, 224, 3)       0         \n",
      "_________________________________________________________________\n",
      "block1_conv1 (Conv2D)        (None, 224, 224, 64)      1792      \n",
      "_________________________________________________________________\n",
      "block1_conv2 (Conv2D)        (None, 224, 224, 64)      36928     \n",
      "_________________________________________________________________\n",
      "block1_pool (MaxPooling2D)   (None, 112, 112, 64)      0         \n",
      "_________________________________________________________________\n",
      "block2_conv1 (Conv2D)        (None, 112, 112, 128)     73856     \n",
      "_________________________________________________________________\n",
      "block2_conv2 (Conv2D)        (None, 112, 112, 128)     147584    \n",
      "_________________________________________________________________\n",
      "block2_pool (MaxPooling2D)   (None, 56, 56, 128)       0         \n",
      "_________________________________________________________________\n",
      "block3_conv1 (Conv2D)        (None, 56, 56, 256)       295168    \n",
      "_________________________________________________________________\n",
      "block3_conv2 (Conv2D)        (None, 56, 56, 256)       590080    \n",
      "_________________________________________________________________\n",
      "block3_conv3 (Conv2D)        (None, 56, 56, 256)       590080    \n",
      "_________________________________________________________________\n",
      "block3_pool (MaxPooling2D)   (None, 28, 28, 256)       0         \n",
      "_________________________________________________________________\n",
      "block4_conv1 (Conv2D)        (None, 28, 28, 512)       1180160   \n",
      "_________________________________________________________________\n",
      "block4_conv2 (Conv2D)        (None, 28, 28, 512)       2359808   \n",
      "_________________________________________________________________\n",
      "block4_conv3 (Conv2D)        (None, 28, 28, 512)       2359808   \n",
      "_________________________________________________________________\n",
      "block4_pool (MaxPooling2D)   (None, 14, 14, 512)       0         \n",
      "_________________________________________________________________\n",
      "block5_conv1 (Conv2D)        (None, 14, 14, 512)       2359808   \n",
      "_________________________________________________________________\n",
      "block5_conv2 (Conv2D)        (None, 14, 14, 512)       2359808   \n",
      "_________________________________________________________________\n",
      "block5_conv3 (Conv2D)        (None, 14, 14, 512)       2359808   \n",
      "_________________________________________________________________\n",
      "block5_pool (MaxPooling2D)   (None, 7, 7, 512)         0         \n",
      "=================================================================\n",
      "Total params: 14,714,688\n",
      "Trainable params: 14,714,688\n",
      "Non-trainable params: 0\n",
      "_________________________________________________________________\n"
     ]
    }
   ],
   "source": [
    "vgg = VGG16(include_top=False, weights='imagenet', input_shape=(224,224,3))\n",
    "vgg.summary()\n",
    "#for layer in vgg.layers[:15]: layer.trainable=False"
   ]
  },
  {
   "cell_type": "code",
   "execution_count": 36,
   "metadata": {},
   "outputs": [
    {
     "name": "stdout",
     "output_type": "stream",
     "text": [
      "14\n"
     ]
    }
   ],
   "source": [
    "layers = vgg.layers\n",
    "maxpool_idx = [index for index,layer in enumerate(layers) if type(layer) is MaxPooling2D][-2]\n",
    "print(maxpool_idx)"
   ]
  },
  {
   "cell_type": "code",
   "execution_count": 37,
   "metadata": {
    "collapsed": true
   },
   "outputs": [],
   "source": [
    "for layer in layers[:maxpool_idx+1]: layer.trainable = False"
   ]
  },
  {
   "cell_type": "code",
   "execution_count": 38,
   "metadata": {
    "collapsed": true
   },
   "outputs": [],
   "source": [
    "vgg_ft = Sequential(layers)"
   ]
  },
  {
   "cell_type": "code",
   "execution_count": 39,
   "metadata": {
    "collapsed": true
   },
   "outputs": [],
   "source": [
    "vgg_ft.add(model)"
   ]
  },
  {
   "cell_type": "code",
   "execution_count": 40,
   "metadata": {},
   "outputs": [
    {
     "name": "stdout",
     "output_type": "stream",
     "text": [
      "_________________________________________________________________\n",
      "Layer (type)                 Output Shape              Param #   \n",
      "=================================================================\n",
      "input_4 (InputLayer)         (None, 224, 224, 3)       0         \n",
      "_________________________________________________________________\n",
      "block1_conv1 (Conv2D)        (None, 224, 224, 64)      1792      \n",
      "_________________________________________________________________\n",
      "block1_conv2 (Conv2D)        (None, 224, 224, 64)      36928     \n",
      "_________________________________________________________________\n",
      "block1_pool (MaxPooling2D)   (None, 112, 112, 64)      0         \n",
      "_________________________________________________________________\n",
      "block2_conv1 (Conv2D)        (None, 112, 112, 128)     73856     \n",
      "_________________________________________________________________\n",
      "block2_conv2 (Conv2D)        (None, 112, 112, 128)     147584    \n",
      "_________________________________________________________________\n",
      "block2_pool (MaxPooling2D)   (None, 56, 56, 128)       0         \n",
      "_________________________________________________________________\n",
      "block3_conv1 (Conv2D)        (None, 56, 56, 256)       295168    \n",
      "_________________________________________________________________\n",
      "block3_conv2 (Conv2D)        (None, 56, 56, 256)       590080    \n",
      "_________________________________________________________________\n",
      "block3_conv3 (Conv2D)        (None, 56, 56, 256)       590080    \n",
      "_________________________________________________________________\n",
      "block3_pool (MaxPooling2D)   (None, 28, 28, 256)       0         \n",
      "_________________________________________________________________\n",
      "block4_conv1 (Conv2D)        (None, 28, 28, 512)       1180160   \n",
      "_________________________________________________________________\n",
      "block4_conv2 (Conv2D)        (None, 28, 28, 512)       2359808   \n",
      "_________________________________________________________________\n",
      "block4_conv3 (Conv2D)        (None, 28, 28, 512)       2359808   \n",
      "_________________________________________________________________\n",
      "block4_pool (MaxPooling2D)   (None, 14, 14, 512)       0         \n",
      "_________________________________________________________________\n",
      "block5_conv1 (Conv2D)        (None, 14, 14, 512)       2359808   \n",
      "_________________________________________________________________\n",
      "block5_conv2 (Conv2D)        (None, 14, 14, 512)       2359808   \n",
      "_________________________________________________________________\n",
      "block5_conv3 (Conv2D)        (None, 14, 14, 512)       2359808   \n",
      "_________________________________________________________________\n",
      "block5_pool (MaxPooling2D)   (None, 7, 7, 512)         0         \n",
      "_________________________________________________________________\n",
      "model_2 (Model)              (None, 43)                6602027   \n",
      "=================================================================\n",
      "Total params: 21,316,715\n",
      "Trainable params: 8,910,635\n",
      "Non-trainable params: 12,406,080\n",
      "_________________________________________________________________\n"
     ]
    }
   ],
   "source": [
    "vgg_ft.summary()"
   ]
  },
  {
   "cell_type": "markdown",
   "metadata": {},
   "source": [
    "## Vanilla ResNet50"
   ]
  },
  {
   "cell_type": "code",
   "execution_count": 6,
   "metadata": {
    "collapsed": true
   },
   "outputs": [],
   "source": [
    "X_trn = load_array(results + 'trn_res.dat')\n",
    "X_vld = load_array(results + 'val_res.dat')"
   ]
  },
  {
   "cell_type": "code",
   "execution_count": 7,
   "metadata": {},
   "outputs": [
    {
     "name": "stdout",
     "output_type": "stream",
     "text": [
      "(34799, 1, 1, 2048) (4410, 1, 1, 2048)\n"
     ]
    }
   ],
   "source": [
    "print(X_trn.shape, X_vld.shape)"
   ]
  },
  {
   "cell_type": "code",
   "execution_count": 11,
   "metadata": {
    "collapsed": true
   },
   "outputs": [],
   "source": [
    "model = Sequential()\n",
    "model.add(Conv2D(43, (3,3), padding='same', input_shape = X_trn.shape[1:]))\n",
    "model.add(GlobalAveragePooling2D())\n",
    "model.add(Activation('softmax'))"
   ]
  },
  {
   "cell_type": "code",
   "execution_count": 12,
   "metadata": {},
   "outputs": [
    {
     "name": "stdout",
     "output_type": "stream",
     "text": [
      "Train on 34799 samples, validate on 4410 samples\n",
      "Epoch 1/20\n",
      "34799/34799 [==============================] - 2s - loss: 3.4724 - acc: 0.0689 - val_loss: 3.5272 - val_acc: 0.0823\n",
      "Epoch 2/20\n",
      "34799/34799 [==============================] - 0s - loss: 3.4148 - acc: 0.0883 - val_loss: 3.4869 - val_acc: 0.0791\n",
      "Epoch 3/20\n",
      "34799/34799 [==============================] - 0s - loss: 3.3726 - acc: 0.0942 - val_loss: 3.4686 - val_acc: 0.0889\n",
      "Epoch 4/20\n",
      "34799/34799 [==============================] - 0s - loss: 3.3385 - acc: 0.1070 - val_loss: 3.4676 - val_acc: 0.1082\n",
      "Epoch 5/20\n",
      "34799/34799 [==============================] - 0s - loss: 3.3089 - acc: 0.1201 - val_loss: 3.4331 - val_acc: 0.1388\n",
      "Epoch 6/20\n",
      "34799/34799 [==============================] - 0s - loss: 3.2801 - acc: 0.1339 - val_loss: 3.4242 - val_acc: 0.1027\n",
      "Epoch 7/20\n",
      "34799/34799 [==============================] - 0s - loss: 3.2571 - acc: 0.1385 - val_loss: 3.4097 - val_acc: 0.1070\n",
      "Epoch 8/20\n",
      "34799/34799 [==============================] - 0s - loss: 3.2359 - acc: 0.1490 - val_loss: 3.4007 - val_acc: 0.1050\n",
      "Epoch 9/20\n",
      "34799/34799 [==============================] - 1s - loss: 3.2117 - acc: 0.1588 - val_loss: 3.3844 - val_acc: 0.0966\n",
      "Epoch 10/20\n",
      "34799/34799 [==============================] - 0s - loss: 3.1894 - acc: 0.1720 - val_loss: 3.3718 - val_acc: 0.1308\n",
      "Epoch 11/20\n",
      "34799/34799 [==============================] - 1s - loss: 3.1705 - acc: 0.1760 - val_loss: 3.3503 - val_acc: 0.1497\n",
      "Epoch 12/20\n",
      "34799/34799 [==============================] - 1s - loss: 3.1506 - acc: 0.1857 - val_loss: 3.3431 - val_acc: 0.1279\n",
      "Epoch 13/20\n",
      "34799/34799 [==============================] - 1s - loss: 3.1344 - acc: 0.1932 - val_loss: 3.3163 - val_acc: 0.1322\n",
      "Epoch 14/20\n",
      "34799/34799 [==============================] - 1s - loss: 3.1161 - acc: 0.1954 - val_loss: 3.3232 - val_acc: 0.1483\n",
      "Epoch 15/20\n",
      "34799/34799 [==============================] - 1s - loss: 3.0975 - acc: 0.2047 - val_loss: 3.3053 - val_acc: 0.1270\n",
      "Epoch 16/20\n",
      "34799/34799 [==============================] - 1s - loss: 3.0823 - acc: 0.2102 - val_loss: 3.2983 - val_acc: 0.1340\n",
      "Epoch 17/20\n",
      "34799/34799 [==============================] - 1s - loss: 3.0680 - acc: 0.2127 - val_loss: 3.2927 - val_acc: 0.1338\n",
      "Epoch 18/20\n",
      "34799/34799 [==============================] - 1s - loss: 3.0518 - acc: 0.2192 - val_loss: 3.2706 - val_acc: 0.1676\n",
      "Epoch 19/20\n",
      "34799/34799 [==============================] - 1s - loss: 3.0373 - acc: 0.2247 - val_loss: 3.2686 - val_acc: 0.1807\n",
      "Epoch 20/20\n",
      "34799/34799 [==============================] - 1s - loss: 3.0204 - acc: 0.2340 - val_loss: 3.2490 - val_acc: 0.1871\n"
     ]
    },
    {
     "data": {
      "text/plain": [
       "<keras.callbacks.History at 0x7ff595322dd8>"
      ]
     },
     "execution_count": 12,
     "metadata": {},
     "output_type": "execute_result"
    }
   ],
   "source": [
    "model.compile(loss='categorical_crossentropy', optimizer='adam', metrics=['accuracy'])\n",
    "model.fit(x=X_trn, y=Y_train, batch_size=128, epochs=20, verbose=1, validation_data=(X_vld, Y_valid))"
   ]
  },
  {
   "cell_type": "code",
   "execution_count": null,
   "metadata": {
    "collapsed": true
   },
   "outputs": [],
   "source": []
  }
 ],
 "metadata": {
  "kernelspec": {
   "display_name": "Python 3",
   "language": "python",
   "name": "python3"
  },
  "language_info": {
   "codemirror_mode": {
    "name": "ipython",
    "version": 3
   },
   "file_extension": ".py",
   "mimetype": "text/x-python",
   "name": "python",
   "nbconvert_exporter": "python",
   "pygments_lexer": "ipython3",
   "version": "3.6.2"
  }
 },
 "nbformat": 4,
 "nbformat_minor": 1
}
