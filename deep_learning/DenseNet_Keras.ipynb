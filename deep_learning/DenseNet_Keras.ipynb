{
 "cells": [
  {
   "cell_type": "code",
   "execution_count": 1,
   "metadata": {
    "collapsed": true
   },
   "outputs": [],
   "source": [
    "root_data = \"/media/diego/QData/datasets/traffic_signs/\"\n",
    "train_data = root_data + \"train.p\"\n",
    "valid_data = root_data + \"valid.p\"\n",
    "test_data = root_data + \"test.p\"\n",
    "results = root_data + \"results/\""
   ]
  },
  {
   "cell_type": "code",
   "execution_count": 2,
   "metadata": {},
   "outputs": [
    {
     "name": "stderr",
     "output_type": "stream",
     "text": [
      "Using TensorFlow backend.\n"
     ]
    }
   ],
   "source": [
    "from __future__ import division, print_function\n",
    "\n",
    "import os, json\n",
    "from glob import glob\n",
    "import numpy as np\n",
    "from scipy import misc, ndimage\n",
    "from scipy.ndimage.interpolation import zoom\n",
    "\n",
    "import keras\n",
    "from keras.callbacks import ModelCheckpoint\n",
    "from keras import backend as K\n",
    "from keras.layers.normalization import BatchNormalization\n",
    "from keras.models import Sequential\n",
    "from keras.layers.merge import Concatenate\n",
    "from keras.layers.core import Flatten, Dense, Dropout, Lambda\n",
    "from keras.layers.convolutional import Conv2D, MaxPooling2D, ZeroPadding2D\n",
    "from keras.layers.pooling import GlobalAveragePooling2D\n",
    "from keras.optimizers import Adam\n",
    "from keras.preprocessing import image\n",
    "from keras.applications.xception import Xception\n",
    "from keras.applications.vgg16 import VGG16\n",
    "from keras.applications.vgg19 import VGG19\n",
    "from keras.applications.resnet50 import ResNet50\n",
    "\n",
    "from keras.backend import tf as k\n",
    "\n",
    "import matplotlib.pyplot as plt\n",
    "import seaborn as sns\n",
    "%matplotlib inline\n",
    "from utils import *\n",
    "import importlib\n",
    "import utils2; importlib.reload(utils2)\n",
    "from utils2 import *\n",
    "from vgg16 import Vgg16"
   ]
  },
  {
   "cell_type": "code",
   "execution_count": 3,
   "metadata": {
    "collapsed": true
   },
   "outputs": [],
   "source": [
    "# Load pickled data\n",
    "import pickle\n",
    "\n",
    "with open(train_data, mode='rb') as f:\n",
    "    train = pickle.load(f)\n",
    "with open(test_data, mode='rb') as f:\n",
    "    test = pickle.load(f)\n",
    "with open(valid_data, mode='rb') as f:\n",
    "    valid = pickle.load(f)\n",
    "    \n",
    "X_train, y_train = train['features'], train['labels']\n",
    "X_valid, y_valid = valid['features'], valid['labels']\n",
    "X_test, y_test = test['features'], test['labels']"
   ]
  },
  {
   "cell_type": "code",
   "execution_count": 4,
   "metadata": {
    "collapsed": true
   },
   "outputs": [],
   "source": [
    "limit_mem()"
   ]
  },
  {
   "cell_type": "code",
   "execution_count": 5,
   "metadata": {},
   "outputs": [
    {
     "name": "stdout",
     "output_type": "stream",
     "text": [
      "X_train shape: (34799, 32, 32, 3)\n",
      "34799 train samples\n",
      "4410 valid samples\n",
      "12630 test samples\n"
     ]
    }
   ],
   "source": [
    "X_train = X_train.astype('float32')\n",
    "X_valid = X_valid.astype('float32')\n",
    "X_test = X_test.astype('float32')\n",
    "X_train /= 255\n",
    "X_valid /= 255\n",
    "X_test /= 255\n",
    "print('X_train shape:', X_train.shape)\n",
    "print(X_train.shape[0], 'train samples')\n",
    "print(X_valid.shape[0], 'valid samples')\n",
    "print(X_test.shape[0], 'test samples')"
   ]
  },
  {
   "cell_type": "code",
   "execution_count": 6,
   "metadata": {},
   "outputs": [
    {
     "data": {
      "image/png": "[encoded data removed]",
      "text/plain": [
       "<matplotlib.figure.Figure at 0x7f9251374b70>"
      ]
     },
     "metadata": {},
     "output_type": "display_data"
    }
   ],
   "source": [
    "from collections import Counter\n",
    "train_label_counter = Counter(y_train)\n",
    "\n",
    "train_counter = Counter(y_train)\n",
    "order = list(zip(*train_counter.most_common()))[0]\n",
    "\n",
    "f, ax = plt.subplots(figsize=(12, 4))\n",
    "ax = sns.countplot(x=y_train, order=order, color='lightblue', ax=ax, label=\"train\")\n",
    "\n",
    "_ = ax.set_title('Class distribution')\n",
    "_ = ax.legend(ncol=2, loc=\"upper right\", frameon=True)"
   ]
  },
  {
   "cell_type": "code",
   "execution_count": 7,
   "metadata": {},
   "outputs": [
    {
     "name": "stdout",
     "output_type": "stream",
     "text": [
      "(34799, 43)\n"
     ]
    }
   ],
   "source": [
    "Y_train = np_utils.to_categorical(y_train, 43)\n",
    "Y_valid = np_utils.to_categorical(y_valid, 43)\n",
    "Y_test = np_utils.to_categorical(y_test, 43)\n",
    "\n",
    "print (Y_train.shape)"
   ]
  },
  {
   "cell_type": "code",
   "execution_count": 7,
   "metadata": {
    "collapsed": true
   },
   "outputs": [],
   "source": [
    "nb_train_samples = X_train.shape[0]\n",
    "nb_valid_samples = X_valid.shape[0]\n",
    "batch_size = 32\n",
    "steps_per_epoch = nb_train_samples // batch_size\n",
    "valid_steps = nb_valid_samples // batch_size"
   ]
  },
  {
   "cell_type": "code",
   "execution_count": 8,
   "metadata": {
    "collapsed": true
   },
   "outputs": [],
   "source": [
    "def relu(x): return Activation('relu')(x)\n",
    "def dropout(x, p): return Dropout(p)(x) if p else x\n",
    "def bn(x): return BatchNormalization()(x)\n",
    "def relu_bn(x): return relu(bn(x))"
   ]
  },
  {
   "cell_type": "code",
   "execution_count": 9,
   "metadata": {
    "collapsed": true
   },
   "outputs": [],
   "source": [
    "def conv(x, nf, sz, wd, p):\n",
    "    x = Conv2D(nf, (sz, sz), kernel_initializer=\"he_uniform\", padding='same', \n",
    "                          kernel_regularizer=regularizers.l2(wd))(x)\n",
    "    return dropout(x,p)"
   ]
  },
  {
   "cell_type": "code",
   "execution_count": 10,
   "metadata": {
    "collapsed": true
   },
   "outputs": [],
   "source": [
    "def conv_block(x, nf, bottleneck=False, p=None, wd=0):\n",
    "    x = relu_bn(x)\n",
    "    if bottleneck: x = relu_bn(conv(x, nf * 4, 1, wd, p))\n",
    "    return conv(x, nf, 3, wd, p)"
   ]
  },
  {
   "cell_type": "code",
   "execution_count": 11,
   "metadata": {
    "collapsed": true
   },
   "outputs": [],
   "source": [
    "def dense_block(x, nb_layers, growth_rate, bottleneck=False, p=None, wd=0):\n",
    "    if bottleneck: nb_layers //= 2\n",
    "    for i in range(nb_layers):\n",
    "        b = conv_block(x, growth_rate, bottleneck=bottleneck, p=p, wd=wd)\n",
    "        x = merge([x,b], mode='concat', concat_axis=-1)\n",
    "    return x"
   ]
  },
  {
   "cell_type": "code",
   "execution_count": 12,
   "metadata": {
    "collapsed": true
   },
   "outputs": [],
   "source": [
    "def transition_block(x, compression=1.0, p=None, wd=0):\n",
    "    nf = int(x.get_shape().as_list()[-1] * compression)\n",
    "    x = relu_bn(x)\n",
    "    x = conv(x, nf, 1, wd, p)\n",
    "    return AveragePooling2D((2, 2), strides=(2, 2))(x)"
   ]
  },
  {
   "cell_type": "code",
   "execution_count": 13,
   "metadata": {
    "collapsed": true
   },
   "outputs": [],
   "source": [
    "def create_dense_net(nb_classes, img_input, depth=40, nb_block=3, \n",
    "     growth_rate=12, nb_filter=16, bottleneck=False, compression=1.0, p=None, wd=0, activation='softmax'):\n",
    "    \n",
    "    assert activation == 'softmax' or activation == 'sigmoid'\n",
    "    assert (depth - 4) % nb_block == 0\n",
    "    nb_layers_per_block = int((depth - 4) / nb_block)\n",
    "    nb_layers = [nb_layers_per_block] * nb_block\n",
    "\n",
    "    x = conv(img_input, nb_filter, 3, wd, 0)\n",
    "    for i,block in enumerate(nb_layers):\n",
    "        x = dense_block(x, block, growth_rate, bottleneck=bottleneck, p=p, wd=wd)\n",
    "        if i != len(nb_layers)-1:\n",
    "            x = transition_block(x, compression=compression, p=p, wd=wd)\n",
    "\n",
    "    x = relu_bn(x)\n",
    "    x = GlobalAveragePooling2D()(x)\n",
    "    return Dense(nb_classes, activation=activation, kernel_regularizer=regularizers.l2(wd))(x)"
   ]
  },
  {
   "cell_type": "code",
   "execution_count": 14,
   "metadata": {
    "collapsed": true
   },
   "outputs": [],
   "source": [
    "input_shape = (32,32,3)"
   ]
  },
  {
   "cell_type": "code",
   "execution_count": 15,
   "metadata": {
    "collapsed": true
   },
   "outputs": [],
   "source": [
    "img_input = Input(shape=input_shape)"
   ]
  },
  {
   "cell_type": "code",
   "execution_count": 16,
   "metadata": {},
   "outputs": [
    {
     "name": "stderr",
     "output_type": "stream",
     "text": [
      "/home/diego/anaconda3/envs/dsretreat/lib/python3.6/site-packages/ipykernel_launcher.py:5: UserWarning: The `merge` function is deprecated and will be removed after 08/2017. Use instead layers from `keras.layers.merge`, e.g. `add`, `concatenate`, etc.\n",
      "  \"\"\"\n",
      "/home/diego/anaconda3/envs/dsretreat/lib/python3.6/site-packages/keras/legacy/layers.py:458: UserWarning: The `Merge` layer is deprecated and will be removed after 08/2017. Use instead layers from `keras.layers.merge`, e.g. `add`, `concatenate`, etc.\n",
      "  name=name)\n"
     ]
    }
   ],
   "source": [
    "x = create_dense_net(43, img_input, depth=100, nb_filter=16, compression=0.5, \n",
    "                     bottleneck=True, p=0.2, wd=1e-4)"
   ]
  },
  {
   "cell_type": "code",
   "execution_count": 17,
   "metadata": {
    "collapsed": true
   },
   "outputs": [],
   "source": [
    "model = Model(img_input, x)"
   ]
  },
  {
   "cell_type": "code",
   "execution_count": 18,
   "metadata": {
    "collapsed": true
   },
   "outputs": [],
   "source": [
    "model.compile(loss='sparse_categorical_crossentropy', \n",
    "      optimizer=keras.optimizers.SGD(0.1, 0.9, nesterov=True), metrics=[\"accuracy\"])"
   ]
  },
  {
   "cell_type": "code",
   "execution_count": null,
   "metadata": {},
   "outputs": [
    {
     "name": "stdout",
     "output_type": "stream",
     "text": [
      "Train on 34799 samples, validate on 4410 samples\n",
      "Epoch 1/20\n",
      "34799/34799 [==============================] - 210s - loss: 2.6717 - acc: 0.3900 - val_loss: 3.0927 - val_acc: 0.4354\n",
      "Epoch 2/20\n",
      "34799/34799 [==============================] - 195s - loss: 0.9215 - acc: 0.8911 - val_loss: 1.4083 - val_acc: 0.8039\n",
      "Epoch 3/20\n",
      "34799/34799 [==============================] - 192s - loss: 0.6249 - acc: 0.9691 - val_loss: 1.0489 - val_acc: 0.8637\n",
      "Epoch 4/20\n",
      "34799/34799 [==============================] - 193s - loss: 0.5086 - acc: 0.9829 - val_loss: 0.8672 - val_acc: 0.8943\n",
      "Epoch 5/20\n",
      "34799/34799 [==============================] - 196s - loss: 0.4359 - acc: 0.9861 - val_loss: 0.8004 - val_acc: 0.8959\n",
      "Epoch 6/20\n",
      "34799/34799 [==============================] - 191s - loss: 0.3756 - acc: 0.9897 - val_loss: 0.5253 - val_acc: 0.9506\n",
      "Epoch 7/20\n",
      "34799/34799 [==============================] - 191s - loss: 0.3302 - acc: 0.9903 - val_loss: 0.4271 - val_acc: 0.9630\n",
      "Epoch 8/20\n",
      "34799/34799 [==============================] - 194s - loss: 0.2904 - acc: 0.9915 - val_loss: 1.0360 - val_acc: 0.8254\n",
      "Epoch 9/20\n",
      "34799/34799 [==============================] - 193s - loss: 0.2615 - acc: 0.9918 - val_loss: 0.5383 - val_acc: 0.9408\n",
      "Epoch 10/20\n",
      "34799/34799 [==============================] - 193s - loss: 0.2372 - acc: 0.9915 - val_loss: 0.4692 - val_acc: 0.9356\n",
      "Epoch 11/20\n",
      "34799/34799 [==============================] - 195s - loss: 0.2209 - acc: 0.9922 - val_loss: 0.4958 - val_acc: 0.9365\n",
      "Epoch 12/20\n",
      "34799/34799 [==============================] - 196s - loss: 0.2030 - acc: 0.9933 - val_loss: 0.2950 - val_acc: 0.9694\n",
      "Epoch 13/20\n",
      "34799/34799 [==============================] - 197s - loss: 0.1838 - acc: 0.9945 - val_loss: 0.3246 - val_acc: 0.9603\n",
      "Epoch 14/20\n",
      "34799/34799 [==============================] - 202s - loss: 0.1752 - acc: 0.9932 - val_loss: 0.4223 - val_acc: 0.9247\n",
      "Epoch 15/20\n",
      "34799/34799 [==============================] - 197s - loss: 0.1685 - acc: 0.9927 - val_loss: 0.7194 - val_acc: 0.8823\n",
      "Epoch 16/20\n",
      "34799/34799 [==============================] - 197s - loss: 0.1650 - acc: 0.9932 - val_loss: 0.3159 - val_acc: 0.9488\n",
      "Epoch 17/20\n",
      "23168/34799 [==================>...........] - ETA: 62s - loss: 0.1467 - acc: 0.9962"
     ]
    }
   ],
   "source": [
    "K.set_value(model.optimizer.lr, 0.1)\n",
    "model.fit(X_train, y_train, 64, 20, verbose=1, validation_data=(X_valid, y_valid))"
   ]
  },
  {
   "cell_type": "code",
   "execution_count": null,
   "metadata": {
    "collapsed": true
   },
   "outputs": [],
   "source": [
    "model.save(results+'first_model.hp5')"
   ]
  },
  {
   "cell_type": "code",
   "execution_count": 41,
   "metadata": {},
   "outputs": [
    {
     "name": "stdout",
     "output_type": "stream",
     "text": [
      "Train on 34799 samples, validate on 4410 samples\n",
      "Epoch 1/4\n",
      "34799/34799 [==============================] - 289s - loss: 0.1276 - acc: 0.9989 - val_loss: 0.1618 - val_acc: 0.9884\n",
      "Epoch 2/4\n",
      "34799/34799 [==============================] - 285s - loss: 0.1230 - acc: 0.9995 - val_loss: 0.1585 - val_acc: 0.9878\n",
      "Epoch 3/4\n",
      "34799/34799 [==============================] - 288s - loss: 0.1196 - acc: 0.9997 - val_loss: 0.1505 - val_acc: 0.9891\n",
      "Epoch 4/4\n",
      "34799/34799 [==============================] - 288s - loss: 0.1164 - acc: 0.9999 - val_loss: 0.1472 - val_acc: 0.9893\n"
     ]
    },
    {
     "data": {
      "text/plain": [
       "<keras.callbacks.History at 0x7f512f91f9b0>"
      ]
     },
     "execution_count": 41,
     "metadata": {},
     "output_type": "execute_result"
    }
   ],
   "source": [
    "K.set_value(model.optimizer.lr, 0.01)\n",
    "model.fit(X_train, y_train, 64, 4, verbose=1, validation_data=(X_valid, y_valid))"
   ]
  },
  {
   "cell_type": "code",
   "execution_count": 42,
   "metadata": {},
   "outputs": [
    {
     "name": "stdout",
     "output_type": "stream",
     "text": [
      "Train on 34799 samples, validate on 4410 samples\n",
      "Epoch 1/20\n",
      "34799/34799 [==============================] - 288s - loss: 0.1389 - acc: 0.9936 - val_loss: 0.4966 - val_acc: 0.9254\n",
      "Epoch 2/20\n",
      "34799/34799 [==============================] - 289s - loss: 0.1400 - acc: 0.9935 - val_loss: 0.4093 - val_acc: 0.9392\n",
      "Epoch 3/20\n",
      "34799/34799 [==============================] - 289s - loss: 0.1295 - acc: 0.9961 - val_loss: 0.3114 - val_acc: 0.9492\n",
      "Epoch 4/20\n",
      "34799/34799 [==============================] - 289s - loss: 0.1285 - acc: 0.9951 - val_loss: 0.2037 - val_acc: 0.9748\n",
      "Epoch 5/20\n",
      "34799/34799 [==============================] - 289s - loss: 0.1321 - acc: 0.9941 - val_loss: 0.5978 - val_acc: 0.9132\n",
      "Epoch 6/20\n",
      "34799/34799 [==============================] - 290s - loss: 0.1392 - acc: 0.9932 - val_loss: 0.2569 - val_acc: 0.9571\n",
      "Epoch 7/20\n",
      "34799/34799 [==============================] - 289s - loss: 0.1291 - acc: 0.9963 - val_loss: 0.5426 - val_acc: 0.9091\n",
      "Epoch 8/20\n",
      "34799/34799 [==============================] - 288s - loss: 0.1278 - acc: 0.9956 - val_loss: 0.1867 - val_acc: 0.9810\n",
      "Epoch 9/20\n",
      "34799/34799 [==============================] - 288s - loss: 0.1141 - acc: 0.9969 - val_loss: 0.2192 - val_acc: 0.9664\n",
      "Epoch 10/20\n",
      "34799/34799 [==============================] - 289s - loss: 0.1183 - acc: 0.9959 - val_loss: 0.2185 - val_acc: 0.9680\n",
      "Epoch 11/20\n",
      "34799/34799 [==============================] - 289s - loss: 0.1325 - acc: 0.9926 - val_loss: 0.2938 - val_acc: 0.9526\n",
      "Epoch 12/20\n",
      "34799/34799 [==============================] - 289s - loss: 0.1239 - acc: 0.9955 - val_loss: 0.2358 - val_acc: 0.9694\n",
      "Epoch 13/20\n",
      "34799/34799 [==============================] - 289s - loss: 0.1233 - acc: 0.9945 - val_loss: 0.4429 - val_acc: 0.9204\n",
      "Epoch 14/20\n",
      "34799/34799 [==============================] - 289s - loss: 0.1174 - acc: 0.9966 - val_loss: 0.1746 - val_acc: 0.9762\n",
      "Epoch 15/20\n",
      "34799/34799 [==============================] - 289s - loss: 0.1192 - acc: 0.9949 - val_loss: 0.2650 - val_acc: 0.9553\n",
      "Epoch 16/20\n",
      "34799/34799 [==============================] - 289s - loss: 0.1214 - acc: 0.9952 - val_loss: 0.1675 - val_acc: 0.9841\n",
      "Epoch 17/20\n",
      "34799/34799 [==============================] - 289s - loss: 0.1028 - acc: 0.9985 - val_loss: 0.2440 - val_acc: 0.9501\n",
      "Epoch 18/20\n",
      "34799/34799 [==============================] - 289s - loss: 0.1169 - acc: 0.9948 - val_loss: 0.1447 - val_acc: 0.9864\n",
      "Epoch 19/20\n",
      "34799/34799 [==============================] - 289s - loss: 0.1183 - acc: 0.9947 - val_loss: 0.6680 - val_acc: 0.8889\n",
      "Epoch 20/20\n",
      "34799/34799 [==============================] - 289s - loss: 0.1182 - acc: 0.9953 - val_loss: 0.2923 - val_acc: 0.9515\n"
     ]
    },
    {
     "data": {
      "text/plain": [
       "<keras.callbacks.History at 0x7f5117a85c50>"
      ]
     },
     "execution_count": 42,
     "metadata": {},
     "output_type": "execute_result"
    }
   ],
   "source": [
    "K.set_value(model.optimizer.lr, 0.1)\n",
    "model.fit(X_train, y_train, 64, 20, verbose=1, validation_data=(X_valid, y_valid))"
   ]
  },
  {
   "cell_type": "code",
   "execution_count": 43,
   "metadata": {},
   "outputs": [
    {
     "name": "stdout",
     "output_type": "stream",
     "text": [
      "Train on 34799 samples, validate on 4410 samples\n",
      "Epoch 1/20\n",
      "34799/34799 [==============================] - 289s - loss: 0.1055 - acc: 0.9986 - val_loss: 0.1257 - val_acc: 0.9934\n",
      "Epoch 2/20\n",
      "34799/34799 [==============================] - 288s - loss: 0.0995 - acc: 0.9996 - val_loss: 0.1282 - val_acc: 0.9923\n",
      "Epoch 3/20\n",
      "34799/34799 [==============================] - 289s - loss: 0.0971 - acc: 0.9998 - val_loss: 0.1201 - val_acc: 0.9948\n",
      "Epoch 4/20\n",
      "34799/34799 [==============================] - 288s - loss: 0.0946 - acc: 0.9998 - val_loss: 0.1161 - val_acc: 0.9966\n",
      "Epoch 5/20\n",
      "34799/34799 [==============================] - 288s - loss: 0.0922 - acc: 1.0000 - val_loss: 0.1137 - val_acc: 0.9959\n",
      "Epoch 6/20\n",
      "34799/34799 [==============================] - 288s - loss: 0.0904 - acc: 1.0000 - val_loss: 0.1136 - val_acc: 0.9941\n",
      "Epoch 7/20\n",
      "34799/34799 [==============================] - 288s - loss: 0.0886 - acc: 0.9999 - val_loss: 0.1141 - val_acc: 0.9937\n",
      "Epoch 8/20\n",
      "34799/34799 [==============================] - 288s - loss: 0.0865 - acc: 1.0000 - val_loss: 0.1073 - val_acc: 0.9964\n",
      "Epoch 9/20\n",
      "34799/34799 [==============================] - 289s - loss: 0.0848 - acc: 0.9999 - val_loss: 0.1084 - val_acc: 0.9955\n",
      "Epoch 10/20\n",
      "34799/34799 [==============================] - 288s - loss: 0.0830 - acc: 0.9999 - val_loss: 0.1058 - val_acc: 0.9946\n",
      "Epoch 11/20\n",
      "34799/34799 [==============================] - 288s - loss: 0.0812 - acc: 0.9999 - val_loss: 0.1017 - val_acc: 0.9964\n",
      "Epoch 12/20\n",
      "34799/34799 [==============================] - 289s - loss: 0.0796 - acc: 0.9999 - val_loss: 0.1007 - val_acc: 0.9955\n",
      "Epoch 13/20\n",
      "34799/34799 [==============================] - 288s - loss: 0.0777 - acc: 0.9999 - val_loss: 0.0997 - val_acc: 0.9964\n",
      "Epoch 14/20\n",
      "34799/34799 [==============================] - 288s - loss: 0.0761 - acc: 0.9999 - val_loss: 0.0976 - val_acc: 0.9961\n",
      "Epoch 15/20\n",
      "34799/34799 [==============================] - 289s - loss: 0.0745 - acc: 1.0000 - val_loss: 0.0969 - val_acc: 0.9959\n",
      "Epoch 16/20\n",
      "34799/34799 [==============================] - 288s - loss: 0.0730 - acc: 0.9999 - val_loss: 0.0948 - val_acc: 0.9964\n",
      "Epoch 17/20\n",
      "34799/34799 [==============================] - 288s - loss: 0.0715 - acc: 1.0000 - val_loss: 0.0925 - val_acc: 0.9964\n",
      "Epoch 18/20\n",
      "34799/34799 [==============================] - 288s - loss: 0.0701 - acc: 0.9999 - val_loss: 0.0925 - val_acc: 0.9957\n",
      "Epoch 19/20\n",
      "34799/34799 [==============================] - 288s - loss: 0.0688 - acc: 0.9999 - val_loss: 0.0883 - val_acc: 0.9959\n",
      "Epoch 20/20\n",
      "34799/34799 [==============================] - 289s - loss: 0.0671 - acc: 1.0000 - val_loss: 0.0879 - val_acc: 0.9961\n"
     ]
    },
    {
     "data": {
      "text/plain": [
       "<keras.callbacks.History at 0x7f5117a85c88>"
      ]
     },
     "execution_count": 43,
     "metadata": {},
     "output_type": "execute_result"
    }
   ],
   "source": [
    "K.set_value(model.optimizer.lr, 0.01)\n",
    "model.fit(X_train, y_train, 64, 20, verbose=1, validation_data=(X_valid, y_valid))"
   ]
  },
  {
   "cell_type": "code",
   "execution_count": 44,
   "metadata": {},
   "outputs": [
    {
     "name": "stdout",
     "output_type": "stream",
     "text": [
      "Train on 34799 samples, validate on 4410 samples\n",
      "Epoch 1/20\n",
      "34799/34799 [==============================] - 287s - loss: 0.0664 - acc: 1.0000 - val_loss: 0.0876 - val_acc: 0.9961\n",
      "Epoch 2/20\n",
      "34799/34799 [==============================] - 289s - loss: 0.0661 - acc: 1.0000 - val_loss: 0.0871 - val_acc: 0.9961\n",
      "Epoch 3/20\n",
      "34799/34799 [==============================] - 288s - loss: 0.0660 - acc: 0.9999 - val_loss: 0.0866 - val_acc: 0.9961\n",
      "Epoch 4/20\n",
      "34799/34799 [==============================] - 288s - loss: 0.0659 - acc: 1.0000 - val_loss: 0.0864 - val_acc: 0.9961\n",
      "Epoch 5/20\n",
      "34799/34799 [==============================] - 289s - loss: 0.0657 - acc: 1.0000 - val_loss: 0.0861 - val_acc: 0.9964\n",
      "Epoch 6/20\n",
      "34799/34799 [==============================] - 288s - loss: 0.0656 - acc: 1.0000 - val_loss: 0.0860 - val_acc: 0.9964\n",
      "Epoch 7/20\n",
      "34799/34799 [==============================] - 288s - loss: 0.0655 - acc: 1.0000 - val_loss: 0.0861 - val_acc: 0.9964\n",
      "Epoch 8/20\n",
      "34799/34799 [==============================] - 289s - loss: 0.0652 - acc: 1.0000 - val_loss: 0.0861 - val_acc: 0.9961\n",
      "Epoch 9/20\n",
      "34799/34799 [==============================] - 289s - loss: 0.0652 - acc: 1.0000 - val_loss: 0.0852 - val_acc: 0.9964\n",
      "Epoch 10/20\n",
      "34799/34799 [==============================] - 288s - loss: 0.0650 - acc: 0.9999 - val_loss: 0.0856 - val_acc: 0.9964\n",
      "Epoch 11/20\n",
      "34799/34799 [==============================] - 288s - loss: 0.0648 - acc: 1.0000 - val_loss: 0.0852 - val_acc: 0.9964\n",
      "Epoch 12/20\n",
      "34799/34799 [==============================] - 288s - loss: 0.0647 - acc: 0.9999 - val_loss: 0.0848 - val_acc: 0.9964\n",
      "Epoch 13/20\n",
      "34799/34799 [==============================] - 288s - loss: 0.0646 - acc: 1.0000 - val_loss: 0.0848 - val_acc: 0.9964\n",
      "Epoch 14/20\n",
      "34799/34799 [==============================] - 288s - loss: 0.0645 - acc: 1.0000 - val_loss: 0.0845 - val_acc: 0.9964\n",
      "Epoch 15/20\n",
      "34799/34799 [==============================] - 288s - loss: 0.0643 - acc: 1.0000 - val_loss: 0.0841 - val_acc: 0.9964\n",
      "Epoch 16/20\n",
      "34799/34799 [==============================] - 289s - loss: 0.0642 - acc: 1.0000 - val_loss: 0.0840 - val_acc: 0.9964\n",
      "Epoch 17/20\n",
      "34799/34799 [==============================] - 288s - loss: 0.0641 - acc: 1.0000 - val_loss: 0.0838 - val_acc: 0.9964\n",
      "Epoch 18/20\n",
      "34799/34799 [==============================] - 289s - loss: 0.0641 - acc: 0.9999 - val_loss: 0.0833 - val_acc: 0.9964\n",
      "Epoch 19/20\n",
      "34799/34799 [==============================] - 288s - loss: 0.0638 - acc: 1.0000 - val_loss: 0.0833 - val_acc: 0.9964\n",
      "Epoch 20/20\n",
      "34799/34799 [==============================] - 289s - loss: 0.0637 - acc: 0.9999 - val_loss: 0.0832 - val_acc: 0.9964\n"
     ]
    },
    {
     "data": {
      "text/plain": [
       "<keras.callbacks.History at 0x7f5117a85d68>"
      ]
     },
     "execution_count": 44,
     "metadata": {},
     "output_type": "execute_result"
    }
   ],
   "source": [
    "K.set_value(model.optimizer.lr, 0.001)\n",
    "model.fit(X_train, y_train, 64, 20, verbose=1, validation_data=(X_valid, y_valid))"
   ]
  },
  {
   "cell_type": "code",
   "execution_count": null,
   "metadata": {
    "collapsed": true
   },
   "outputs": [],
   "source": []
  }
 ],
 "metadata": {
  "kernelspec": {
   "display_name": "Python 3",
   "language": "python",
   "name": "python3"
  },
  "language_info": {
   "codemirror_mode": {
    "name": "ipython",
    "version": 3
   },
   "file_extension": ".py",
   "mimetype": "text/x-python",
   "name": "python",
   "nbconvert_exporter": "python",
   "pygments_lexer": "ipython3",
   "version": "3.6.2"
  }
 },
 "nbformat": 4,
 "nbformat_minor": 1
}
